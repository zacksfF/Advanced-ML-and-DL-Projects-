{
  "nbformat": 4,
  "nbformat_minor": 0,
  "metadata": {
    "colab": {
      "private_outputs": true,
      "provenance": [],
      "authorship_tag": "ABX9TyO2IGWPNWIuK00V94uepFS5",
      "include_colab_link": true
    },
    "kernelspec": {
      "name": "python3",
      "display_name": "Python 3"
    },
    "language_info": {
      "name": "python"
    }
  },
  "cells": [
    {
      "cell_type": "markdown",
      "metadata": {
        "id": "view-in-github",
        "colab_type": "text"
      },
      "source": [
        "<a href=\"https://colab.research.google.com/github/zacksfF/Artificial_neural_network/blob/main/Multilayer_ANNs.ipynb\" target=\"_parent\"><img src=\"https://colab.research.google.com/assets/colab-badge.svg\" alt=\"Open In Colab\"/></a>"
      ]
    },
    {
      "cell_type": "code",
      "execution_count": null,
      "metadata": {
        "id": "9xT2BnUiSMpW"
      },
      "outputs": [],
      "source": [
        "import torch\n",
        "import torch.nn as nn\n",
        "import matplotlib.pyplot as plt\n",
        "import numpy as np"
      ]
    },
    {
      "cell_type": "code",
      "source": [
        "# create data\n",
        "\n",
        "nPerClust = 100\n",
        "blur = 1\n",
        "\n",
        "A = [  1,  3 ]\n",
        "B = [  1, -2 ]\n",
        "\n",
        "# generate data\n",
        "a = [ A[0]+np.random.randn(nPerClust)*blur , A[1]+np.random.randn(nPerClust)*blur ]\n",
        "b = [ B[0]+np.random.randn(nPerClust)*blur , B[1]+np.random.randn(nPerClust)*blur ]\n",
        "\n",
        "# true labels\n",
        "labels_np = np.vstack((np.zeros((nPerClust,1)),np.ones((nPerClust,1))))\n",
        "\n",
        "# concatanate into a matrix\n",
        "data_np = np.hstack((a,b)).T\n",
        "\n",
        "# convert to a pytorch tensor\n",
        "data = torch.tensor(data_np).float()\n",
        "labels = torch.tensor(labels_np).float()\n",
        "\n",
        "# show the data\n",
        "fig = plt.figure(figsize=(5,5))\n",
        "plt.plot(data[np.where(labels==0)[0],0],data[np.where(labels==0)[0],1],'bs')\n",
        "plt.plot(data[np.where(labels==1)[0],0],data[np.where(labels==1)[0],1],'ko')\n",
        "plt.title('The qwerties!')\n",
        "plt.xlabel('qwerty dimension 1')\n",
        "plt.ylabel('qwerty dimension 2')\n",
        "plt.show()"
      ],
      "metadata": {
        "id": "MTqhvoLLRUBn"
      },
      "execution_count": null,
      "outputs": []
    },
    {
      "cell_type": "code",
      "source": [
        "def createANNmodel(learningRate):\n",
        "\n",
        "  # model architecture\n",
        "  ANNclassify = nn.Sequential(\n",
        "      nn.Linear(2,16),  # input layer\n",
        "      nn.ReLU(),        # activation unit\n",
        "      nn.Linear(16,1),  # hidden layer\n",
        "      nn.ReLU(),        # activation unit\n",
        "      nn.Linear(1,1),   # output unit\n",
        "      nn.Sigmoid(),     # final activation unit\n",
        "        )\n",
        "\n",
        "  # loss function\n",
        "  lossfun = nn.BCELoss() # but better to use BCEWithLogitsLoss\n",
        "\n",
        "  # optimizer\n",
        "  optimizer = torch.optim.SGD(ANNclassify.parameters(),lr=learningRate)\n",
        "\n",
        "  # model output\n",
        "  return ANNclassify,lossfun,optimizer"
      ],
      "metadata": {
        "id": "6I5bu5RFR1Tw"
      },
      "execution_count": null,
      "outputs": []
    },
    {
      "cell_type": "code",
      "source": [
        "# a function that trains the model\n",
        "\n",
        "# a fixed parameter\n",
        "numepochs = 1000\n",
        "\n",
        "def trainTheModel(ANNmodel):\n",
        "\n",
        "  # initialize losses\n",
        "  losses = torch.zeros(numepochs)\n",
        "\n",
        "  # loop over epochs\n",
        "  for epochi in range(numepochs):\n",
        "\n",
        "    # forward pass\n",
        "    yHat = ANNmodel(data)\n",
        "\n",
        "    # compute loss\n",
        "    loss = lossfun(yHat,labels)\n",
        "    losses[epochi] = loss\n",
        "\n",
        "    # backprop\n",
        "    optimizer.zero_grad()\n",
        "    loss.backward()\n",
        "    optimizer.step()\n",
        "\n",
        "\n",
        "\n",
        "  # final forward pass\n",
        "  predictions = ANNmodel(data)\n",
        "\n",
        "  # compute the predictions and report accuracy\n",
        "  # NOTE: Wasn't this \">0\" previously?!?!\n",
        "  totalacc = 100*torch.mean(((predictions>.5) == labels).float())\n",
        "\n",
        "  return losses,predictions,totalacc"
      ],
      "metadata": {
        "id": "hkRAG0kQR41g"
      },
      "execution_count": null,
      "outputs": []
    },
    {
      "cell_type": "markdown",
      "source": [
        "# Test the new code by running it once"
      ],
      "metadata": {
        "id": "wv8gv-fdR-Re"
      }
    },
    {
      "cell_type": "code",
      "source": [
        "# create everything\n",
        "ANNclassify,lossfun,optimizer = createANNmodel(.01)\n",
        "\n",
        "# run it\n",
        "losses,predictions,totalacc = trainTheModel(ANNclassify)\n",
        "\n",
        "# report accuracy\n",
        "print('Final accuracy: %g%%' %totalacc)\n",
        "\n",
        "\n",
        "# show the losses\n",
        "plt.plot(losses.detach(),'o',markerfacecolor='w',linewidth=.1)\n",
        "plt.xlabel('Epoch'), plt.ylabel('Loss')\n",
        "plt.show()"
      ],
      "metadata": {
        "id": "D0Iy7UDgSAbi"
      },
      "execution_count": null,
      "outputs": []
    },
    {
      "cell_type": "code",
      "source": [
        "# learning rates\n",
        "learningrates = np.linspace(.001,.1,50)\n",
        "\n",
        "# initialize\n",
        "accByLR = []\n",
        "allLosses = np.zeros((len(learningrates),numepochs))\n",
        "\n",
        "\n",
        "# the loop\n",
        "for i,lr in enumerate(learningrates):\n",
        "\n",
        "  # create and run the model\n",
        "  ANNclassify,lossfun,optimizer = createANNmodel(lr)\n",
        "  losses,predictions,totalacc = trainTheModel(ANNclassify)\n",
        "\n",
        "  # store the results\n",
        "  accByLR.append(totalacc)\n",
        "  allLosses[i,:] = losses.detach()\n"
      ],
      "metadata": {
        "id": "4TxgBw_uSJfi"
      },
      "execution_count": null,
      "outputs": []
    },
    {
      "cell_type": "code",
      "source": [
        "# plot the results\n",
        "fig,ax = plt.subplots(1,2,figsize=(16,4))\n",
        "\n",
        "ax[0].plot(learningrates,accByLR,'s-')\n",
        "ax[0].set_xlabel('Learning rate')\n",
        "ax[0].set_ylabel('Accuracy')\n",
        "ax[0].set_title('Accuracy by learning rate')\n",
        "\n",
        "ax[1].plot(allLosses.T)\n",
        "ax[1].set_title('Losses by learning rate')\n",
        "ax[1].set_xlabel('Epoch number')\n",
        "ax[1].set_ylabel('Loss')\n",
        "plt.show()"
      ],
      "metadata": {
        "id": "hdUrZYWHSPxW"
      },
      "execution_count": null,
      "outputs": []
    },
    {
      "cell_type": "code",
      "source": [
        "accByLR"
      ],
      "metadata": {
        "id": "AtWJIEzFSRMT"
      },
      "execution_count": null,
      "outputs": []
    },
    {
      "cell_type": "code",
      "source": [
        "sum(torch.tensor(accByLR)>70)/len(accByLR)"
      ],
      "metadata": {
        "id": "iNQwkLw2SSFx"
      },
      "execution_count": null,
      "outputs": []
    }
  ]
}