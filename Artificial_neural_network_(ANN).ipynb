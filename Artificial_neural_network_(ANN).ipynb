{
  "nbformat": 4,
  "nbformat_minor": 0,
  "metadata": {
    "colab": {
      "private_outputs": true,
      "provenance": [],
      "authorship_tag": "ABX9TyN+aNwk4YcV3B9eMUN6qn71",
      "include_colab_link": true
    },
    "kernelspec": {
      "name": "python3",
      "display_name": "Python 3"
    },
    "language_info": {
      "name": "python"
    }
  },
  "cells": [
    {
      "cell_type": "markdown",
      "metadata": {
        "id": "view-in-github",
        "colab_type": "text"
      },
      "source": [
        "<a href=\"https://colab.research.google.com/github/zacksfF/Artificial_neural_network/blob/main/Artificial_neural_network_(ANN).ipynb\" target=\"_parent\"><img src=\"https://colab.research.google.com/assets/colab-badge.svg\" alt=\"Open In Colab\"/></a>"
      ]
    },
    {
      "cell_type": "markdown",
      "source": [
        "# **Artificial neural network part 1**"
      ],
      "metadata": {
        "id": "16b8ztx_-qVl"
      }
    },
    {
      "cell_type": "markdown",
      "source": [
        "**Model depth vs. breadth**"
      ],
      "metadata": {
        "id": "QJzUXYDq_36Y"
      }
    },
    {
      "cell_type": "code",
      "execution_count": null,
      "metadata": {
        "id": "IfuiTQUn-f1F"
      },
      "outputs": [],
      "source": [
        "import torch\n",
        "import torch.nn as nn\n",
        "import torch.nn.functional as F\n",
        "\n",
        "import numpy as np\n",
        "import matplotlib.pyplot as plt\n",
        "from IPython import display\n",
        "plt.rcParams['svg.fonttype'] = 'none'"
      ]
    },
    {
      "cell_type": "code",
      "source": [
        "pip install seaborn"
      ],
      "metadata": {
        "id": "YHNuS3gSBTzc"
      },
      "execution_count": null,
      "outputs": []
    },
    {
      "cell_type": "code",
      "source": [
        "# import data\n",
        "import seaborn as sns\n",
        "iris = sns.load_dataset('iris')\n",
        "\n",
        "data = torch.tensor(iris[iris.columns[0:4]].values).float()\n",
        "labels = torch.zeros(len(data), dtype=torch.long)\n",
        "labels[iris.species=='versicolor'] = 1\n",
        "labels[iris.species=='virginica'] = 2"
      ],
      "metadata": {
        "id": "kAxesmaJA007"
      },
      "execution_count": null,
      "outputs": []
    },
    {
      "cell_type": "markdown",
      "source": [
        "*Construct and sanity-check the model*\n",
        "\n",
        "\n",
        "\n"
      ],
      "metadata": {
        "id": "Eo-2MwKlCPXz"
      }
    },
    {
      "cell_type": "code",
      "source": [
        "from pandas._libs.tslibs.dtypes import npy_unit_to_abbrev\n",
        "# create a class for the model\n",
        "\n",
        "class ANNiris(nn.Module):\n",
        "    def __init__(self,nUnits, nlayers):\n",
        "        super().__init__()\n",
        "\n",
        "        # create dictionary to store the layer\n",
        "        self.layers = nn.moduleDict()\n",
        "        self.nLayers = nUnits # nLayers\n",
        "\n",
        "        # input layer\n",
        "        self.layers['input'].nnlinear(4, nUnits)\n",
        "\n",
        "        #hiden layers\n",
        "        for i in range(nLayers):\n",
        "            self.layers[f'hidden{i}']=nn.Linear(uNits, nUnits)\n",
        "\n",
        "        #outpu layer\n",
        "        self.layers['output'] = nnLinear(nUnits, 3)\n",
        "\n",
        "        #froward pass\n",
        "        def forward (self, x):\n",
        "            #input layes (nite: the code in the video omits the relu after this layee)\n",
        "            x  = F.relu(self.layers['input'](x))\n",
        "\n",
        "            # hidden layers\n",
        "            for i in range (self.nLayers):\n",
        "                x = F.relu(self.layers[f'hidden{i}'(x)])\n",
        "\n",
        "                #return output layer\n",
        "                x = self.layers['output'](x)\n",
        "                return x\n",
        "\n",
        "\n",
        "\n"
      ],
      "metadata": {
        "id": "DDgnPENTBRXH"
      },
      "execution_count": null,
      "outputs": []
    },
    {
      "cell_type": "code",
      "source": [
        "import torch.nn as nn\n",
        "\n",
        "class ANNiris(nn.Module):\n",
        "    def __init__(self, nUnits, nLayers):\n",
        "        super(ANNiris, self).__init__()\n",
        "\n",
        "        self.layers = nn.ModuleDict()\n",
        "        self.nLayers = nUnits\n",
        "\n",
        "        # Define the input layer\n",
        "        self.layers['input'] = nn.Linear(4, nUnits)\n",
        "\n",
        "        # Define the hidden layers\n",
        "        for i in range(nLayers):\n",
        "            self.layers['hidden{}'.format(i)] = nn.Linear(nUnits, nUnits)\n",
        "\n",
        "        # Define the output layer\n",
        "        self.layers['output'] = nn.Linear(nUnits, 3)\n",
        "\n",
        "    def forward(self, x):\n",
        "        # Apply the layers sequentially\n",
        "        for layer in self.layers.values():\n",
        "            x = layer(x)\n",
        "        return x\n",
        "\n",
        "# Create an instance of ANNiris with the same parameters\n",
        "nUnitsPerLayer = 12\n",
        "nLayers = 4\n",
        "net = ANNiris(nUnitsPerLayer, nLayers)\n",
        "\n",
        "# Print the model architecture\n",
        "print(net)\n"
      ],
      "metadata": {
        "id": "vDTBUNJPGaZZ"
      },
      "execution_count": null,
      "outputs": []
    },
    {
      "cell_type": "markdown",
      "source": [
        "### **Create a function that trains the model**"
      ],
      "metadata": {
        "id": "0Dma9d-DHeVk"
      }
    },
    {
      "cell_type": "code",
      "source": [
        "# a function to train the model\n",
        "\n",
        "def trainTheModel(theModel1):\n",
        "    #define the loss function and optimizer\n",
        "    lossfun = nn.CrossEntropyLoss()\n",
        "    optimizer = torch.optimSGD(theModel.parameters(),lr=.01)\n",
        "\n",
        "    #loop over epochs\n",
        "    for epochi in range(numepochs):\n",
        "        #froward pass\n",
        "        yHat = theModel(data)\n",
        "\n",
        "        #com^pute loss\n",
        "        loss = lossfun(yHat, labels)\n",
        "\n",
        "        ## backpropagation\n",
        "        optimizer.zero_grad()\n",
        "        loss.backward()\n",
        "        optimizer.step()\n",
        "\n",
        "\n",
        "    # final froward pass to get accuracy\n",
        "    predictions = theModel(data)\n",
        "    predlabels = torch.argmax(prediction,axis=1)\n",
        "    acc = 100*torch.mean((predlabels == labels).float())\n",
        "\n",
        "    #total number of trainable parameters in the model\n",
        "    nParams = sum(p.numel() for p in theModel.parameters() if p.requires_grad)\n",
        "\n",
        "    # function output\n",
        "    return acc,nParams\n",
        "\n"
      ],
      "metadata": {
        "id": "N_hTeML9HmDQ"
      },
      "execution_count": null,
      "outputs": []
    },
    {
      "cell_type": "code",
      "source": [
        "import torch.optim as optim\n",
        "\n",
        "def trainTheModel(theModel):\n",
        "    # define the loss function and optimizer\n",
        "    lossfun = nn.CrossEntropyLoss()\n",
        "    optimizer = optim.SGD(theModel.parameters(), lr=0.01)\n",
        "\n",
        "    # loop over epochs\n",
        "    for epoch in range(numepochs):\n",
        "        # #test the function once\n",
        "        numepochs = 2500\n",
        "        acc = trainTheModel(net)\n",
        "        #check the outputs\n",
        "        acc #tuple containing (accuracy, nparams)\n"
      ],
      "metadata": {
        "id": "6aaboLmAKv4B"
      },
      "execution_count": null,
      "outputs": []
    },
    {
      "cell_type": "markdown",
      "source": [
        "### **Now for the experiment**"
      ],
      "metadata": {
        "id": "iPflX69sLChy"
      }
    },
    {
      "cell_type": "code",
      "source": [
        "# define the model paramets\n",
        "numlayers = range(1,6)\n",
        "numunits = np.arange(4, 101, 3)\n",
        "\n",
        "# initialize uotput matrics\n",
        "accuracies = np.zeros((len(numunits), len(numlayers)))\n",
        "totalparams = np.zeros((len(numunits), len(numlayers)))\n",
        "\n",
        "# number of training\n",
        "numepochs = 500\n",
        "\n",
        "# dtrat the experiment !\n",
        "for unitidx in range(len(numunits)):\n",
        "    for layeridx in range(len(numlayers)):\n",
        "         # cteate a freash model instance\n",
        "         net = ANNiris(numunits[unitidx], numlayers[layeridx])\n",
        "\n",
        "         # run the model and store the results\n",
        "         acc,nParams = trainTheModel(net)\n",
        "         accuracies[unitidx,layeridx]=acc\n",
        "         #store the total number of parameters in the model\n",
        "         totalparams[unitidx,layeridx] = nParams"
      ],
      "metadata": {
        "id": "pqKi8BSXKHt-"
      },
      "execution_count": null,
      "outputs": []
    },
    {
      "cell_type": "code",
      "source": [
        "# show accuracy as function of model depth\n",
        "fig,ax = plt.subplots(1,figsize=(12,6))\n",
        "\n",
        "ax.plot(numunits,accuracies,'o-',markerfacecolor='w',markersize=9)\n",
        "ax.plot(numunits[[0,-1]],[33,33],'--',color=[.8,.8,.8])\n",
        "ax.plot(numunits[[0,-1]],[67,67],'--',color=[.8,.8,.8])\n",
        "ax.legend(numlayers)\n",
        "ax.set_ylabel('accuracy')\n",
        "ax.set_xlabel('Number of hidden units')\n",
        "ax.set_title('Accuracy')\n",
        "plt.show()"
      ],
      "metadata": {
        "id": "JQfZAdRENSXh"
      },
      "execution_count": null,
      "outputs": []
    },
    {
      "cell_type": "code",
      "source": [
        "# vectorize for convenience\n",
        "x = totalparams.flatten()\n",
        "y = accuracies.flatten()\n",
        "\n",
        "# correlation between them\n",
        "r = np.corrcoef(x,y)[0,1]\n",
        "\n",
        "# scatter plot\n",
        "plt.plot(x,y,'o')\n",
        "plt.xlabel('Number of parameters')\n",
        "plt.ylabel('Accuracy')\n",
        "plt.title('Correlation: r=' + str(np.round(r,3)))\n",
        "plt.show()"
      ],
      "metadata": {
        "id": "vQXnRsLQPsZP"
      },
      "execution_count": null,
      "outputs": []
    }
  ]
}